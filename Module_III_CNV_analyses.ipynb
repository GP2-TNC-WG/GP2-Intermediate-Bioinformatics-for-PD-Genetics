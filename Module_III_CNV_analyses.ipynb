{
 "cells": [
  {
   "cell_type": "markdown",
   "metadata": {},
   "source": [
    "# Intermediate Bioinformatics for Parkinson’s Disease Genetics"
   ]
  },
  {
   "cell_type": "markdown",
   "metadata": {},
   "source": [
    "- **Module III:** Exploring copy number variation and runs of homozygosity from genotyping data\n",
    "\n",
    "- **Authors:** Julie Lake on behalf of the Global Parkinson's Genetics Program (GP2) from Aligning Science Across Parkinson's (ASAP)\n",
    "\n",
    "- **Estimated Computation and Runtime:**\n",
    "    - **Estimated Specifications:** 4 CPUs, 15 GB memory, 250 GB Persistent Disk\n",
    "    - **Estimated Runtime:** 1 h total\n",
    "    \n",
    "    \n",
    "- **Date Last Updated:** 13-MARCH-2022\n",
    "\n",
    "- **Update Description:** Updated notebook"
   ]
  },
  {
   "cell_type": "markdown",
   "metadata": {},
   "source": [
    "## Quick Description:"
   ]
  },
  {
   "cell_type": "markdown",
   "metadata": {},
   "source": [
    "Compared to single nucleotide polymorphisms, or SNPs, CNVs often encompass larger genomic regions which can cause changes in gene dosage, regulation, or structure that have important functional consequences. Although most genetic discoveries in Parkinson’s disease have focused on single nucleotide variants, several studies have identified both inherited and de-novo CNVs that are associated with Parkinson’s disease. \n",
    "\n",
    "This notebook will show you how to potentially infer probabilistic estimates for the presence of copy number variation assessing two parameters (log R ratio and B allele frequencies) from genotyping data. \n"
   ]
  },
  {
   "cell_type": "markdown",
   "metadata": {},
   "source": [
    "## Background/Motivation:"
   ]
  },
  {
   "cell_type": "markdown",
   "metadata": {},
   "source": [
    "What is copy number variation? A CNV occurs when there is an increase or decrease in the number of chromosomal copies in a given region of the genome that is greater than one thousand base pairs in length. CNVs represent an important form of human genetic variation and, as you can see in this diagram, can vary widely in size. \n",
    "\n",
    "Some CNVs are limited to the duplication or deletion of a single gene or part of a gene, while others can result in more severe changes such as gene triplications or changes that encompass several genes. Some CNVs also span regions where no known genes exist.\n"
   ]
  },
  {
   "cell_type": "markdown",
   "metadata": {},
   "source": [
    "## Workflow Summary:"
   ]
  },
  {
   "cell_type": "markdown",
   "metadata": {},
   "source": [
    "0. Getting started\n",
    "1. Extract SNP metrics from raw genotype idats\n",
    "2. Data quality control analyses\n",
    "3. Extract specific genes identifying SNPs within ranges of Log R Ratio and B-Allele Frequency\n",
    "4. Calculate a probabalistic CNV dosage and plot "
   ]
  },
  {
   "cell_type": "markdown",
   "metadata": {},
   "source": [
    "## Workflow:"
   ]
  },
  {
   "cell_type": "markdown",
   "metadata": {},
   "source": [
    "### [0. Getting Started](#0)"
   ]
  },
  {
   "cell_type": "markdown",
   "metadata": {},
   "source": [
    "This section goes through:\n",
    "* Setting up Python libraries, data path variables, and functions\n",
    "* Copying data to workspace\n",
    "* Check format of imported file"
   ]
  },
  {
   "cell_type": "markdown",
   "metadata": {},
   "source": [
    "### [1. Extract SNP metrics from raw genotype files](#1)"
   ]
  },
  {
   "cell_type": "markdown",
   "metadata": {},
   "source": [
    "This section goes through:\n",
    "* Make a directory\n",
    "* Extract metrics from raw genotype data"
   ]
  },
  {
   "cell_type": "markdown",
   "metadata": {},
   "source": [
    "### [2. Identify genes within ranges of Log R Ratio and B-Allele Frequency](#2)"
   ]
  },
  {
   "cell_type": "markdown",
   "metadata": {},
   "source": [
    "This section goes through:\n",
    "* Break down Log R ratio and B Allele Frequency per gene."
   ]
  },
  {
   "cell_type": "markdown",
   "metadata": {},
   "source": [
    "### [3. Calculate a probabilistic CNV dosage and plot the data](#3)"
   ]
  },
  {
   "cell_type": "markdown",
   "metadata": {},
   "source": [
    "This section goes through:\n",
    "* Get max dosage per category of CNV\n",
    "* Extract the sample with the highest Log R ratio deletion dosage\n",
    "* Plot B Allele frequencies and Log R ratios"
   ]
  },
  {
   "cell_type": "markdown",
   "metadata": {},
   "source": [
    "## 0. Getting started\n",
    "<a id=\"0\"></a>"
   ]
  },
  {
   "cell_type": "markdown",
   "metadata": {},
   "source": [
    "### Set up environment"
   ]
  },
  {
   "cell_type": "code",
   "execution_count": 2,
   "metadata": {
    "code_folding": []
   },
   "outputs": [],
   "source": [
    "# Use the os package to interact with the environment\n",
    "import os\n",
    "\n",
    "# Bring in Pandas for Dataframe functionality\n",
    "import pandas as pd\n",
    "\n",
    "# numpy for basics\n",
    "import numpy as np\n",
    "\n",
    "# Use StringIO for working with file contents\n",
    "from io import StringIO\n",
    "\n",
    "# Enable IPython to display matplotlib graphs\n",
    "import matplotlib.pyplot as plt\n",
    "%matplotlib inline\n",
    "\n",
    "# Enable interaction with the FireCloud API\n",
    "from firecloud import api as fapi\n",
    "\n",
    "# Import the iPython HTML rendering for displaying links to Google Cloud Console\n",
    "from IPython.core.display import display, HTML\n",
    "\n",
    "# Import urllib modules for building URLs to Google Cloud Console\n",
    "import urllib.parse\n",
    "\n",
    "# BigQuery for querying data\n",
    "from google.cloud import bigquery"
   ]
  },
  {
   "cell_type": "code",
   "execution_count": null,
   "metadata": {},
   "outputs": [],
   "source": [
    "! pip install plotly"
   ]
  },
  {
   "cell_type": "code",
   "execution_count": null,
   "metadata": {},
   "outputs": [],
   "source": [
    "import plotly.express as px\n",
    "import plotly.graph_objects as go"
   ]
  },
  {
   "cell_type": "markdown",
   "metadata": {},
   "source": [
    "### Set up billing project and data path variables"
   ]
  },
  {
   "cell_type": "code",
   "execution_count": null,
   "metadata": {},
   "outputs": [],
   "source": [
    "# Set up billing project and data path variables\n",
    "BILLING_PROJECT_ID = os.environ['GOOGLE_PROJECT']\n",
    "WORKSPACE_NAMESPACE = os.environ['WORKSPACE_NAMESPACE']\n",
    "WORKSPACE_NAME = os.environ['WORKSPACE_NAME']\n",
    "WORKSPACE_BUCKET = os.environ['WORKSPACE_BUCKET']\n",
    "\n",
    "WORKSPACE_ATTRIBUTES = fapi.get_workspace(WORKSPACE_NAMESPACE, WORKSPACE_NAME).json().get('workspace',{}).get('attributes',{})\n",
    "\n",
    "## AMP-PD v2.5\n",
    "## Explicitly define release v2.5 path \n",
    "AMP_RELEASE_PATH = 'gs://amp-pd-data/releases/2021_v2-5release_0510'\n",
    "AMP_CLINICAL_RELEASE_PATH = f'{AMP_RELEASE_PATH}/clinical'\n",
    "\n",
    "AMP_WGS_RELEASE_PATH = 'gs://amp-pd-genomics/releases/2021_v2-5release_0510/wgs'\n",
    "AMP_WGS_RELEASE_PLINK_PATH = os.path.join(AMP_WGS_RELEASE_PATH, 'plink')\n",
    "AMP_WGS_RELEASE_GATK_PATH = os.path.join(AMP_WGS_RELEASE_PATH, 'gatk')\n",
    "\n",
    "## Print the information to check we are in the proper release and billing \n",
    "## This will be different for you, the user, depending on the billing project your workspace is on\n",
    "print('Billing and Workspace')\n",
    "print(f'Workspace Name: {WORKSPACE_NAME}')\n",
    "print(f'Billing Project: {BILLING_PROJECT_ID}')\n",
    "print(f'Workspace Bucket, where you can upload and download data: {WORKSPACE_BUCKET}')\n",
    "print('')\n",
    "\n",
    "print('AMP-PD v2.5')\n",
    "print(f'Path to AMP-PD v2.5 Clinical Data: {AMP_CLINICAL_RELEASE_PATH}')\n",
    "print(f'Path to AMP-PD v2.5 WGS Data: {AMP_WGS_RELEASE_PLINK_PATH}')\n",
    "print('')\n",
    "\n",
    "## GP2 v2.0\n",
    "GP2_RELEASE_PATH = 'gs://gp2tier2/release2_06052022'\n",
    "GP2_CLINICAL_RELEASE_PATH = f'{GP2_RELEASE_PATH}/clinical_data'\n",
    "GP2_META_RELEASE_PATH = f'{GP2_RELEASE_PATH}/meta_data'\n",
    "GP2_SUMSTAT_RELEASE_PATH = f'{GP2_RELEASE_PATH}/summary_statistics'\n",
    "\n",
    "GP2_RAW_GENO_PATH = f'{GP2_RELEASE_PATH}/raw_genotypes'\n",
    "GP2_IMPUTED_GENO_PATH = f'{GP2_RELEASE_PATH}/imputed_genotypes'\n",
    "print('GP2 v2.0')\n",
    "print(f'Path to GP2 v2.0 Clinical Data: {GP2_CLINICAL_RELEASE_PATH}')\n",
    "print(f'Path to GP2 v2.0 Raw Genotype Data: {GP2_RAW_GENO_PATH}')\n",
    "print(f'Path to GP2 v2.0 Imputed Genotype Data: {GP2_IMPUTED_GENO_PATH}')\n"
   ]
  },
  {
   "cell_type": "markdown",
   "metadata": {},
   "source": [
    "### Set up functions"
   ]
  },
  {
   "cell_type": "code",
   "execution_count": 4,
   "metadata": {},
   "outputs": [],
   "source": [
    "# Utility routine for printing a shell command before executing it\n",
    "def shell_do(command):\n",
    "    print(f'Executing: {command}')\n",
    "    !$command\n",
    "\n",
    "# Utility routines for reading files from Google Cloud Storage\n",
    "def gcs_read_file(path):\n",
    "    \"\"\"Return the contents of a file in GCS\"\"\"\n",
    "    contents = !gsutil -u {BILLING_PROJECT_ID} cat {path}\n",
    "    return '\\n'.join(contents)\n",
    "    \n",
    "def gcs_read_csv(path, sep=None):\n",
    "    \"\"\"Return a DataFrame from the contents of a delimited file in GCS\"\"\"\n",
    "    return pd.read_csv(StringIO(gcs_read_file(path)), sep=sep, engine='python')\n",
    "\n",
    "# Utility routine for display a message and a link\n",
    "def display_html_link(description, link_text, url):\n",
    "    html = f'''\n",
    "    <p>\n",
    "    </p>\n",
    "    <p>\n",
    "    {description}\n",
    "    <a target=_blank href=\"{url}\">{link_text}</a>.\n",
    "    </p>\n",
    "    '''\n",
    "\n",
    "    display(HTML(html))\n",
    "    \n",
    "# Utility routine for displaying a message and link to Cloud Console\n",
    "def link_to_cloud_console_gcs(description, link_text, gcs_path):\n",
    "    url = '{}?{}'.format(\n",
    "        os.path.join('https://console.cloud.google.com/storage/browser',\n",
    "                     gcs_path.replace(\"gs://\",\"\")),\n",
    "        urllib.parse.urlencode({'userProject': BILLING_PROJECT_ID}))\n",
    "\n",
    "    display_html_link(description, link_text, url)\n",
    "    \n",
    "# Get the data from a query\n",
    "def bq_query(query):\n",
    "    \"\"\"Return the contents of a query against BigQuery\"\"\"\n",
    "    return pd.read_gbq(\n",
    "        query,\n",
    "        project_id=BILLING_PROJECT_ID,\n",
    "        dialect='standard')"
   ]
  },
  {
   "cell_type": "markdown",
   "metadata": {},
   "source": [
    "## 1. Extract SNP metrics from raw genotype data\n",
    "<a id=\"1\"></a>"
   ]
  },
  {
   "cell_type": "code",
   "execution_count": null,
   "metadata": {},
   "outputs": [],
   "source": [
    "# Create a folder on your workspace\n",
    "print(\"Making a working directory\")\n",
    "WORK_DIR = f'/home/jupyter/CNVs/'\n",
    "shell_do(f'mkdir -p {WORK_DIR}') # f' stands for f-string which contains expressions inside brackets"
   ]
  },
  {
   "cell_type": "code",
   "execution_count": null,
   "metadata": {},
   "outputs": [],
   "source": [
    "# Import manually files that you would like to copy in Terra and then transfer them into your notebook workspace\n",
    "shell_do(f'gsutil -u {BILLING_PROJECT_ID} -m cp gs://fc-c04486b2-8d7e-4359-a607-63643e9a7914/park2_snp_metrics.csv {WORK_DIR}')"
   ]
  },
  {
   "cell_type": "code",
   "execution_count": 9,
   "metadata": {},
   "outputs": [],
   "source": [
    "metrics_path = '/home/jupyter/CNVs/park2_snp_metrics.csv'\n",
    "gene_df = pd.read_csv(metrics_path)\n",
    "\n",
    "gene_start = 161347417 - 250000\n",
    "gene_end = 162727766 + 250000"
   ]
  },
  {
   "cell_type": "markdown",
   "metadata": {},
   "source": [
    "## 2. Identify genes within ranges of Log R Ratio and B-Allele Frequency\n",
    "<a id=\"2\"></a>"
   ]
  },
  {
   "cell_type": "code",
   "execution_count": null,
   "metadata": {},
   "outputs": [],
   "source": [
    "# Normally, we would loop through a list of genes but here is an example of a single gene\n",
    "# Break down L2R and BAF per gene.\n",
    "min_variants = 10\n",
    "\n",
    "print(\"Remember, we are only calling CNVs for genes with more than \" + str(min_variants) + \" variants.\")\n",
    "results = []\n",
    "\n",
    "for sample in gene_df['Sample_ID'].unique():\n",
    "    code = sample.split('_')[0]\n",
    "\n",
    "    df = gene_df.loc[gene_df['Sample_ID']==sample].copy()\n",
    "    \n",
    "    if df.shape[0] < min_variants:\n",
    "        print(f\"This gene in sample {sample} does not meet the minimum variant count requirement.\")\n",
    "        results.append((sample, 'PARK2', df.shape[0], np.nan, np.nan, np.nan))\n",
    "    else:\n",
    "        df['BAF_insertion'] = np.where( (df['BAlleleFreq'].between(0.65, 0.85, inclusive='neither')) | (df['BAlleleFreq'].between(0.15, 0.35, inclusive='neither')), 1, 0)\n",
    "        df['L2R_deletion'] = np.where( df['LogRRatio'] < -0.2, 1, 0)\n",
    "        df['L2R_insertion'] = np.where( df['LogRRatio'] > 0.2, 1, 0)\n",
    "        PERCENT_BAF_INSERTION = df['BAF_insertion'].mean()\n",
    "        PERCENT_L2R_DELETION = df['L2R_deletion'].mean()\n",
    "        PERCENT_L2R_INSERTION = df['L2R_insertion'].mean()\n",
    "        results.append((sample, 'PARK2', df.shape[0], PERCENT_BAF_INSERTION, PERCENT_L2R_DELETION, PERCENT_L2R_INSERTION))\n",
    "\n",
    "output = pd.DataFrame(results, columns=('Sample_ID', 'GENE', 'NUM_VARIANTS', 'PERCENT_BAF_INSERTION', 'PERCENT_L2R_DELETION','PERCENT_L2R_INSERTION'))\n"
   ]
  },
  {
   "cell_type": "markdown",
   "metadata": {},
   "source": [
    "## 3.  Calculate a probabilistic CNV dosage and plot the data\n",
    "<a id=\"3\"></a>"
   ]
  },
  {
   "cell_type": "code",
   "execution_count": null,
   "metadata": {},
   "outputs": [],
   "source": [
    "# Get max dosage per category of CNV\n",
    "baf_ins_max = output['PERCENT_BAF_INSERTION'].max()\n",
    "l2r_ins_max = output['PERCENT_L2R_INSERTION'].max()\n",
    "l2r_del_max = output['PERCENT_L2R_DELETION'].max()\n",
    "\n",
    "\n",
    "print(f'BAF Insertion Max: {baf_ins_max}')\n",
    "print(f'L2R Insertion Max: {l2r_ins_max}')\n",
    "print(f'L2R Deletion Max: {l2r_del_max}')\n",
    "\n",
    "# Extract the sample with the high L2R deletion dosage\n",
    "plot_sample = output.loc[output['PERCENT_L2R_DELETION']==l2r_del_max, 'Sample_ID'].values[0]\n",
    "plot_sample\n"
   ]
  },
  {
   "cell_type": "code",
   "execution_count": 12,
   "metadata": {},
   "outputs": [],
   "source": [
    "# View the sample with largest cnv dosage (highest probability of cnv)\n",
    "plot_df = gene_df.loc[gene_df['Sample_ID']==plot_sample].copy()"
   ]
  },
  {
   "cell_type": "code",
   "execution_count": null,
   "metadata": {},
   "outputs": [],
   "source": [
    "# Plot B Allele frequencies and Log R ratios\n",
    "\n",
    "gene_label = 'PARK2'\n",
    "low_X = gene_start\n",
    "high_X = gene_end\n",
    "BAF_fig = px.scatter(plot_df, x='position', y='BAlleleFreq', color='LogRRatio', color_continuous_scale='IceFire')\n",
    "BAF_fig.update_xaxes(range=[low_X, high_X])\n",
    "\n",
    "BAF_fig.add_shape(type=\"line\",\n",
    "    x0=gene_start, y0=0.5, x1=gene_end, y1=0.5,\n",
    "    line=dict(color=\"Black\",width=3)\n",
    ")\n",
    "\n",
    "annot_x = (gene_end + gene_start)/2\n",
    "annotation = {\n",
    "    # x -> location for x\n",
    "    'x': annot_x,\n",
    "    # y -> location for y\n",
    "    'y': 0.55,\n",
    "    'text': gene_label,  # text\n",
    "    'showarrow': True,  # would you want to see arrow\n",
    "    'arrowhead': 3,  # which type for arrowhead\n",
    "    'font': {'size': 10, 'color': 'black'}  # font style\n",
    "}\n",
    "\n",
    "BAF_fig.add_annotation(annotation)\n",
    "BAF_fig.update_layout(title='BAF', width=1200, height=450)\n",
    "BAF_fig.show()\n",
    "\n",
    "low_X = gene_start\n",
    "high_X = gene_end \n",
    "LRR_fig = px.scatter(plot_df, x='position', y='LogRRatio', color='BAlleleFreq', color_continuous_scale='Twilight')\n",
    "LRR_fig.update_xaxes(range=[low_X, high_X])\n",
    "\n",
    "LRR_fig.add_shape(type=\"line\",\n",
    "    x0=gene_start, y0=0.0, x1=gene_end, y1=0.0,\n",
    "    line=dict(color=\"Black\",width=3)\n",
    ")\n",
    "\n",
    "annot_x = (gene_end + gene_start)/2\n",
    "annotation = {\n",
    "    # x -> location for x\n",
    "    'x': annot_x,\n",
    "    # y -> location for y\n",
    "    'y': 0.1,\n",
    "    'text': gene_label,  # text\n",
    "    'showarrow': True,  # would you want to see arrow\n",
    "    'arrowhead': 3,  # which type for arrowhead\n",
    "    'font': {'size': 10, 'color': 'black'}  # font style\n",
    "}\n",
    "\n",
    "LRR_fig.add_annotation(annotation)\n",
    "LRR_fig.update_layout(title='LRR', width=1200, height=450)\n",
    "LRR_fig.show()"
   ]
  }
 ],
 "metadata": {
  "kernelspec": {
   "display_name": "Python 3",
   "language": "python",
   "name": "python3"
  },
  "language_info": {
   "codemirror_mode": {
    "name": "ipython",
    "version": 3
   },
   "file_extension": ".py",
   "mimetype": "text/x-python",
   "name": "python",
   "nbconvert_exporter": "python",
   "pygments_lexer": "ipython3",
   "version": "3.7.12"
  },
  "toc": {
   "base_numbering": 1,
   "nav_menu": {},
   "number_sections": true,
   "sideBar": true,
   "skip_h1_title": false,
   "title_cell": "Table of Contents",
   "title_sidebar": "Contents",
   "toc_cell": false,
   "toc_position": {},
   "toc_section_display": true,
   "toc_window_display": false
  }
 },
 "nbformat": 4,
 "nbformat_minor": 2
}
